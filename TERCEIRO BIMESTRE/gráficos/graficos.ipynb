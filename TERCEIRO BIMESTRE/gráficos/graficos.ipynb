{
 "cells": [
  {
   "cell_type": "markdown",
   "metadata": {},
   "source": [
    "# Aula Gráficos\n",
    "\n",
    "Esse arquivo tem como ideia explicar quando utilizar cada tipo de gráfico e suas características.\n",
    "Para efeito de visualização usaremos o matplotlib."
   ]
  },
  {
   "cell_type": "code",
   "execution_count": null,
   "metadata": {},
   "outputs": [],
   "source": []
  }
 ],
 "metadata": {
  "language_info": {
   "name": "python"
  }
 },
 "nbformat": 4,
 "nbformat_minor": 2
}
