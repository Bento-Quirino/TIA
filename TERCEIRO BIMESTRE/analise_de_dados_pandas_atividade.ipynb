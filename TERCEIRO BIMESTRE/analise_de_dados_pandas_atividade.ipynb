{
  "nbformat": 4,
  "nbformat_minor": 0,
  "metadata": {
    "colab": {
      "provenance": []
    },
    "kernelspec": {
      "name": "python3",
      "display_name": "Python 3"
    },
    "language_info": {
      "name": "python"
    }
  },
  "cells": [
    {
      "cell_type": "markdown",
      "source": [
        "# Analise os dados do csv\n",
        "\n",
        "NO csv em questão vocês terão uma sala de aula, com notas como no sistema do bento quirino.\n",
        "\n",
        "Você deve:\n",
        "\n",
        "1. Retirar colunas que não serão utilizadas;\n",
        "2. Normalizar os dados e inserir/substituir se necessário\n",
        "3. Trazer as 5 maiores notas das salas\n",
        "4. Trazer as 5 menores notas das salas\n",
        "5. Trazer a média da sala\n",
        "6. Mostrar em um gráfico de barra vertical quantidade temos de cada nota.\n",
        "7. Mostrar um boxplot de cada avaliação (MA, AM, AB, MB)\n",
        "8. Descrever em um relatório textual a situação dos 5 alunos com menor nota com base na análise dos dados (por que o desempenho deles está assim, e o que provavelmente pode ter acontecido/como melhorar)\n",
        "\n",
        "Gere o inpynb, e salve para a próxima aula"
      ],
      "metadata": {
        "id": "6AsGdxknfkkw"
      }
    },
    {
      "cell_type": "code",
      "execution_count": null,
      "metadata": {
        "id": "Lek-TzcefjeU"
      },
      "outputs": [],
      "source": []
    }
  ]
}