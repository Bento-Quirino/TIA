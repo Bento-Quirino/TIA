{
 "cells": [
  {
   "cell_type": "markdown",
   "metadata": {},
   "source": [
    "# Análise de dados\n",
    "\n",
    "Neste notebook, vamos analisar os dados fornecidos para entender melhor o problema e como podemos resolvê-lo.\n",
    "\n",
    "Primeiro, vamos dar uma olhada em algumas amostras fictícias onde iremos analisar os dados:\n",
    "\n",
    "- nome\n",
    "- peso\n",
    "- altura\n",
    "- idade\n",
    "- sexo\n",
    "- grau de escolaridade\n",
    "- profissão\n",
    "- estado civil\n",
    "- cidade\n",
    "- estado\n",
    "\n",
    "abaixo, temos um dicionário com as amostras fictícias e geraremos um excel com esses dados para analisar melhor.\n"
   ]
  },
  {
   "cell_type": "code",
   "execution_count": 1,
   "metadata": {},
   "outputs": [],
   "source": [
    "# importando pandas\n",
    "import pandas as pd\n"
   ]
  },
  {
   "cell_type": "code",
   "execution_count": 2,
   "metadata": {},
   "outputs": [
    {
     "name": "stdout",
     "output_type": "stream",
     "text": [
      "     nome  peso  altura  idade sexo grau de escolaridade   profissão  \\\n",
      "0    João    80    1.80     25    M             Superior  Engenheiro   \n",
      "1   Maria    55    1.65     20    F                Médio   Estudante   \n",
      "2    José    90    1.75     30    M             Superior      Médico   \n",
      "3     Ana    70    1.70     22    F                Médio   Estudante   \n",
      "4  Carlos    75    1.85     35    M             Superior  Engenheiro   \n",
      "\n",
      "  estado civil          cidade estado  \n",
      "0     Solteiro       São Paulo     SP  \n",
      "1     Solteiro  Rio de Janeiro     RJ  \n",
      "2       Casado        Curitiba     PR  \n",
      "3     Solteiro        Salvador     BA  \n",
      "4       Casado    Porto Alegre     RS  \n"
     ]
    }
   ],
   "source": [
    "# Cria um DataFrame a partir de um dicionário com os campos\n",
    "# - nome\n",
    "# - peso\n",
    "# - altura\n",
    "# - idade\n",
    "# - sexo\n",
    "# - grau de escolaridade\n",
    "# - profissão\n",
    "# - estado civil\n",
    "# - cidade\n",
    "# - estado\n",
    "\n",
    "dataframe = pd.DataFrame({\n",
    "    'nome': ['João', 'Maria', 'José', 'Ana', 'Carlos'],\n",
    "    'peso': [80, 55, 90, 70, 75],\n",
    "    'altura': [1.80, 1.65, 1.75, 1.70, 1.85],\n",
    "    'idade': [25, 20, 30, 22, 35],\n",
    "    'sexo': ['M', 'F', 'M', 'F', 'M'],\n",
    "    'grau de escolaridade': ['Superior', 'Médio', 'Superior', 'Médio', 'Superior'],\n",
    "    'profissão': ['Engenheiro', 'Estudante', 'Médico', 'Estudante', 'Engenheiro'],\n",
    "    'estado civil': ['Solteiro', 'Solteiro', 'Casado', 'Solteiro', 'Casado'],\n",
    "    'cidade': ['São Paulo', 'Rio de Janeiro', 'Curitiba', 'Salvador', 'Porto Alegre'],\n",
    "    'estado': ['SP', 'RJ', 'PR', 'BA', 'RS']\n",
    "})\n",
    "\n",
    "# Exibe o DataFrame\n",
    "print(dataframe)\n",
    "\n",
    "# Gera um excel com o DataFrame pessoas_data.csv\n",
    "dataframe.to_excel('pessoas_data.xlsx', index=False)"
   ]
  }
 ],
 "metadata": {
  "kernelspec": {
   "display_name": "Python 3",
   "language": "python",
   "name": "python3"
  },
  "language_info": {
   "codemirror_mode": {
    "name": "ipython",
    "version": 3
   },
   "file_extension": ".py",
   "mimetype": "text/x-python",
   "name": "python",
   "nbconvert_exporter": "python",
   "pygments_lexer": "ipython3",
   "version": "3.9.7"
  }
 },
 "nbformat": 4,
 "nbformat_minor": 2
}
