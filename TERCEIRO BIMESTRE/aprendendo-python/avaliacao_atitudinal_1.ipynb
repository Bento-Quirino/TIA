{
 "cells": [
  {
   "cell_type": "markdown",
   "metadata": {},
   "source": [
    "# Exercícios avaliativos\n",
    "\n",
    "Os exercícios avaliativos são uma forma de avaliar o conhecimento adquirido ao longo do curso. Eles são compostos por questões onde os alunos devem resolver problemas utilizando os conceitos aprendidos em python como:\n",
    "\n",
    "- variaveis\n",
    "- loops\n",
    "- condicionais\n",
    "- funções\n",
    "- matrizes\n",
    "- manipulação de strings\n",
    "\n",
    "A avaliação DEVE SER FEITA EM PAPEL, E ENTREGUE AO PROFESSOR NA PRÓXIMA AULA (DIA 22/08/2024).\n",
    "\n",
    "Links úteis:\n",
    "- [Encriptação](https://www.geeksforgeeks.org/how-to-encrypt-and-decrypt-strings-in-python/)"
   ]
  },
  {
   "cell_type": "markdown",
   "metadata": {},
   "source": [
    "# Questão 1\n",
    "\n",
    "Crie um programa que imprima a pirâmide abaixo no terminal, onde deve criar uma função que recebe um número inteiro e imprime a pirâmide com a quantidade de linhas igual ao número passado como parâmetro.    \n",
    "```bash\n",
    "    *\n",
    "    **\n",
    "    ***\n",
    "    ****\n",
    "    *****\n",
    "```\n",
    "\n"
   ]
  },
  {
   "cell_type": "markdown",
   "metadata": {},
   "source": [
    "# Questão 2\n",
    "\n",
    "Crie um programa que:\n",
    "- Receba um nome como parâmetro de função\n",
    "    - Retorne um erro caso o nome seja menor que 3 caracteres, null, vazio ou não seja uma string\n",
    "    - Retorne uma string montada com:\n",
    "        - \"Olá, \" + nome + \"!\"\n",
    "        - \"Olá, \" + nome_invertido + \"!\"\n",
    "        - \"Olá, \" + nome_encrypitado + \"!\"\n",
    "\n",
    "\n",
    "Exemplo com o nome \"João\" (não tem erro):\n",
    "Olá, João!\n",
    "Olá, oãoJ!\n",
    "Olá, ajdnandiasda!\n",
    "\n",
    "Exemplo com o nome \"Jo\" (tem erro):\n",
    "Erro: Nome muito curto"
   ]
  },
  {
   "cell_type": "markdown",
   "metadata": {},
   "source": [
    "# Questão 3\n",
    "\n",
    "Crie um programa que:\n",
    "- Receba uma array de strings de números como parâmetro de função\n",
    "- Calcule a equação de reta usando os valores de entrada\n",
    "\n",
    "Exemplo:\n",
    "```python\n",
    "entrada = [\"1\", \"2\", \"3\", \"4\", \"5\"]\n",
    "```\n",
    "\n",
    "Equalção de reta: `y = 4x + 9`\n"
   ]
  },
  {
   "cell_type": "markdown",
   "metadata": {},
   "source": [
    "# Questão 4\n",
    "\n",
    "Usando a saída da questão 3, crie um programa com/que:\n",
    "\n",
    "- Uma função que receba uma dicionário com os valores de x e y\n",
    "- Coloque os valores de x e y em um gráfico de linha utilizando a biblioteca matplotlib\n",
    "- Use a função abaixo para plotar o gráfico (ela recebe uma array de dicionários com os valores de x e y)\n",
    "\n",
    "```python"
   ]
  },
  {
   "cell_type": "code",
   "execution_count": 1,
   "metadata": {},
   "outputs": [
    {
     "data": {
      "image/png": "[encoded data removed]",
      "text/plain": [
       "<Figure size 432x288 with 1 Axes>"
      ]
     },
     "metadata": {
      "needs_background": "light"
     },
     "output_type": "display_data"
    }
   ],
   "source": [
    "import matplotlib.pyplot as plt\n",
    "\n",
    "# Função plot, recebe uma array de diciionários com os dados a serem plotados criando uma linha em azul e os pontos em vermelho\n",
    "\n",
    "data = [\n",
    "    {\"x\": 1, \"y\": 2},\n",
    "    {\"x\": 2, \"y\": 3},\n",
    "    { \"x\": 3, \"y\": 4},\n",
    "]\n",
    "\n",
    "def plot(data):\n",
    "    x = [d[\"x\"] for d in data]\n",
    "    y = [d[\"y\"] for d in data]\n",
    "    plt.plot(x, y, \"b-\")\n",
    "    plt.plot(x, y, \"ro\")\n",
    "    plt.show()\n",
    "    \n",
    "plot(data)\n"
   ]
  }
 ],
 "metadata": {
  "kernelspec": {
   "display_name": "base",
   "language": "python",
   "name": "python3"
  },
  "language_info": {
   "codemirror_mode": {
    "name": "ipython",
    "version": 3
   },
   "file_extension": ".py",
   "mimetype": "text/x-python",
   "name": "python",
   "nbconvert_exporter": "python",
   "pygments_lexer": "ipython3",
   "version": "3.9.7"
  }
 },
 "nbformat": 4,
 "nbformat_minor": 2
}
