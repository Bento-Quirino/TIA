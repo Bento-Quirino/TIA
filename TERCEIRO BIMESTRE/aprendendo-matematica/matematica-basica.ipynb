{
 "cells": [
  {
   "cell_type": "markdown",
   "metadata": {},
   "source": [
    "# Matemática voltada para data science"
   ]
  },
  {
   "cell_type": "markdown",
   "metadata": {},
   "source": [
    "## Iremos abordar os seguintes tópicos:\n",
    "- Média aritmética simples\n",
    "- Mediana\n",
    "- Moda\n",
    "- Desvio padrão\n",
    "- Variância\n",
    "- Quartis, decis e percentis"
   ]
  },
  {
   "cell_type": "markdown",
   "metadata": {},
   "source": [
    "### Média aritmética simples\n",
    "\n",
    "A média aritmética simples é a **soma de todos os valores de um conjunto de dados dividido pelo número de elementos desse conjunto**. A média é uma medida de tendência central que é muito utilizada para resumir um conjunto de dados.\n",
    "\n",
    "A fórmula para calcular a média aritmética simples é:\n",
    "\n",
    "$$\\bar{x} = \\frac{\\sum_{i=1}^{n} x_i}{n}$$"
   ]
  },
  {
   "cell_type": "markdown",
   "metadata": {},
   "source": [
    "> Exemplo\n",
    ">\n",
    "> Considere o conjunto de dados: 2, 3, 5, 7, 11, 13, 17, 19, 23, 29\n",
    ">\n",
    "> A média aritmética simples desse conjunto de dados é:\n",
    ">\n",
    "> $$\\bar{x} = \\frac{2 + 3 + 5 + 7 + 11 + 13 + 17 + 19 + 23 + 29}{10} = \\frac{129}{10} = 12,9$$"
   ]
  },
  {
   "cell_type": "markdown",
   "metadata": {},
   "source": [
    "### Mediana\n",
    "\n",
    "A mediana é o **valor que separa a metade maior e a metade menor de um conjunto de dados ordenado**. Para calcular a mediana, é necessário ordenar o conjunto de dados em ordem crescente ou decrescente.\n",
    "\n",
    "Se o número de elementos do conjunto de dados for ímpar, a mediana é o valor central.\n",
    "Se o número de elementos do conjunto de dados for par, a mediana é a média dos dois valores centrais."
   ]
  },
  {
   "cell_type": "markdown",
   "metadata": {},
   "source": [
    "#### Exemplo\n",
    "Considere o conjunto de dados: 2, 3, 7, 3, 13, 11, 17, 19, 23, 29\n",
    "\n",
    "Ordenando o conjunto de dados: 2, 3, 5, 7, 11, 13, 17, 19, 23, 29\n",
    "\n",
    "Como o número de elementos do conjunto de dados é par, a mediana é a média dos dois valores centrais:\n",
    "\n",
    "$$\\text{Mediana} = \\frac{11 + 13}{2} = 12$$\n"
   ]
  },
  {
   "cell_type": "markdown",
   "metadata": {},
   "source": [
    "### Moda\n",
    "\n",
    "A moda é o **valor que mais se repete em um conjunto de dados**. Um conjunto de dados pode ter uma moda, mais de uma moda ou não ter moda(amodal).\n",
    "\n",
    "#### Exemplo\n",
    "\n",
    "Considere o conjunto de dados: 2, 3, 7, 3, 13, 11, 17, 19, 23, 29\n",
    "\n",
    "A moda desse conjunto de dados é 3, pois é o valor que mais se repete."
   ]
  },
  {
   "cell_type": "markdown",
   "metadata": {},
   "source": [
    "### Variância\n",
    "\n",
    "A variância é uma medida de dispersão que **indica o quão distantes os valores de um conjunto de dados estão da média**. A variância é calculada como a média dos quadrados das diferenças entre cada valor e a média.\n",
    "\n",
    "A fórmula para calcular a variância é:\n",
    "\n",
    "$$\\sigma^2 = \\frac{\\sum_{i=1}^{n} (x_i - \\bar{x})^2}{n}$$\n"
   ]
  },
  {
   "cell_type": "markdown",
   "metadata": {},
   "source": [
    "#### Exemplo\n",
    "\n",
    "Considere o conjunto de dados: 2, 3, 5, 7, 11, 13, 17, 19, 23, 29\n",
    "\n",
    "A média aritmética simples desse conjunto de dados é 12,9.\n",
    "\n",
    "A variância desse conjunto de dados é:\n",
    "\n",
    "$$\\sigma^2 = \\frac{(2 - 12,9)^2 + (3 - 12,9)^2 + (5 - 12,9)^2 + (7 - 12,9)^2 + (11 - 12,9)^2 + (13 - 12,9)^2 + (17 - 12,9)^2 + (19 - 12,9)^2 + (23 - 12,9)^2 + (29 - 12,9)^2}{10} = \\frac{129,9}{10} = 12,99$$"
   ]
  },
  {
   "cell_type": "markdown",
   "metadata": {},
   "source": [
    "# Desvio padrão\n",
    "\n",
    "O desvio padrão é uma medida de dispersão que indica o quanto os valores de um conjunto de dados se afastam da média. O desvio padrão é a raiz quadrada da variância.\n",
    "\n",
    "A fórmula para calcular o desvio padrão é:\n",
    "\n",
    "$$\\sigma = \\sqrt{\\sigma^2}$$"
   ]
  },
  {
   "cell_type": "markdown",
   "metadata": {},
   "source": [
    "#### Exemplo\n",
    "\n",
    "Considere o conjunto de dados: 2, 3, 5, 6\n",
    "\n",
    "A variancia desse conjunto de dados é dada pela **fórmula da variancia**:\n",
    "\n",
    "$$\\sigma^2 = \\frac{(2 - 4)^2 + (3 - 4)^2 + (5 - 4)^2 + (6 - 4)^2}{4} = \\frac{10}{4} = 2,5$$\n",
    "\n",
    "Logo a raiz quadrada da variância é o desvio padrão:\n",
    "\n",
    "$$\\sigma = \\sqrt{2,5} ≈ 1,58$$\n",
    "\n",
    "\n",
    "O que nos traz a seguinte tabela:\n",
    "\n",
    "| Conjunto de dados | Média | Mediana | Moda | Variância | Desvio padrão |\n",
    "|-------------------|-------|---------|------|-----------|---------------|\n",
    "| 2, 3, 5, 6 | 4 | 4 | Não tem | 1,75 | 1,32 |\n"
   ]
  },
  {
   "cell_type": "markdown",
   "metadata": {},
   "source": [
    "#### Desvio a direita e desvio a esquerda\n",
    "\n",
    "- Desvio a direita é quando a média é maior que a mediana e a mediana é maior que a moda.\n",
    "- Desvio a esquerda é quando a média é menor que a mediana e a mediana é menor que a moda.\n",
    "- Desvio simétrico é quando a média é igual a mediana e a mediana é igual a moda.\n",
    "\n",
    "#### Exemplo\n",
    "\n",
    "Considere o conjunto de dados: 2, 3, 5, 7, 11, 13, 17, 19, 23, 29\n",
    "\n",
    "- A média aritmética simples desse conjunto de dados é 12,9.\n",
    "- A mediana desse conjunto de dados é 12.\n",
    "- A moda desse conjunto de dados é 3.\n",
    "\n",
    "Como a média é maior que a mediana e a mediana é maior que a moda, o conjunto de dados tem desvio a direita.\n"
   ]
  },
  {
   "cell_type": "code",
   "execution_count": 5,
   "metadata": {},
   "outputs": [
    {
     "data": {
      "image/png": "[encoded data removed]",
      "text/plain": [
       "<Figure size 432x288 with 1 Axes>"
      ]
     },
     "metadata": {
      "needs_background": "light"
     },
     "output_type": "display_data"
    }
   ],
   "source": [
    "import matplotlib.pyplot as plt\n",
    "from collections import Counter\n",
    "\n",
    "valores_conjunto = [10, 10, 5, 6, 4, 10, 4, 1, 9, 7, 7, 7, 7]\n",
    "\n",
    "counter = Counter(valores_conjunto)\n",
    "\n",
    "plt.bar(counter.keys(), counter.values())\n",
    "plt.xlabel('Values')\n",
    "plt.ylabel('Frequency')\n",
    "plt.title('Frequency of each value in valores_conjunto')\n",
    "plt.show()"
   ]
  },
  {
   "cell_type": "markdown",
   "metadata": {},
   "source": [
    "No caso acima com o conjunto 10, 10, 5, 6, 4, 10, 4, 1, 9, 7, 7, 7, 7 temos:\n",
    "\n",
    "- A média aritmética simples desse conjunto de dados é 6,5.\n",
    "- A mediana desse conjunto de dados é 7.\n",
    "- A moda desse conjunto de dados é 7.\n",
    "\n",
    "Como a média é menor que a mediana e a mediana é igual a moda, o conjunto de dados tem desvio a esquerda."
   ]
  },
  {
   "cell_type": "markdown",
   "metadata": {},
   "source": [
    "### Vale ressaltar que o desvio padrão é uma medida de dispersão que é muito utilizada para avaliar a variabilidade dos dados. Quanto maior o desvio padrão, maior a variabilidade dos dados.\n",
    "\n",
    "Variância e desvio padrão são medidas de dispersão que indicam o quão distantes os valores de um conjunto de dados estão da média. A variância é a média dos quadrados das diferenças entre cada valor e a média, enquanto o desvio padrão é a raiz quadrada da variância."
   ]
  },
  {
   "cell_type": "markdown",
   "metadata": {},
   "source": [
    "#### Quartis, decis e percentis\n",
    "\n",
    "Quartis, decis e percentis são medidas de posição que dividem um conjunto de dados em partes iguais.\n",
    "\n",
    "- Quartis: são os três valores que dividem um conjunto de dados em quatro partes iguais. Os quartis são denotados por Q1, Q2 e Q3.\n",
    "- Decis: são os nove valores que dividem um conjunto de dados em dez partes iguais. Os decis são denotados por D1, D2, D3, ..., D9.\n",
    "- Percentis: são os noventa e nove valores que dividem um conjunto de dados em cem partes iguais. Os percentis são denotados por P1, P2, P3, ..., P99.\n",
    "\n",
    "Os quartis, decis e percentis são medidas de posição que são muito utilizadas para resumir um conjunto de dados.\n",
    "\n",
    "#### Exemplo\n",
    "\n",
    "Considere o conjunto de dados: 2, 3, 5, 7, 11, 13, 17, 19, 23, 29\n",
    "\n",
    "Como achar os quartis, decis e percentis desse conjunto de dados?\n",
    "\n",
    "Para encontrar os quartis, decis e percentis, é necessário ordenar o conjunto de dados em ordem crescente ou decrescente.\n",
    "\n",
    "Ordenando o conjunto de dados: 2, 3, 5, 7, 11, 13, 17, 19, 23, 29\n",
    "\n",
    "Os quartis, serão achar os valores que dividem o conjunto de dados em quatro partes iguais:\n",
    "\n",
    "- Q1: 5\n",
    "- Q2: 11\n",
    "- Q3: 19"
   ]
  }
 ],
 "metadata": {
  "kernelspec": {
   "display_name": "base",
   "language": "python",
   "name": "python3"
  },
  "language_info": {
   "codemirror_mode": {
    "name": "ipython",
    "version": 3
   },
   "file_extension": ".py",
   "mimetype": "text/x-python",
   "name": "python",
   "nbconvert_exporter": "python",
   "pygments_lexer": "ipython3",
   "version": "3.9.7"
  }
 },
 "nbformat": 4,
 "nbformat_minor": 2
}
